{
  "nbformat": 4,
  "nbformat_minor": 0,
  "metadata": {
    "colab": {
      "provenance": [],
      "authorship_tag": "ABX9TyP78KQOuJyTXO7XPpc4PYqZ",
      "include_colab_link": true
    },
    "kernelspec": {
      "name": "python3",
      "display_name": "Python 3"
    },
    "language_info": {
      "name": "python"
    }
  },
  "cells": [
    {
      "cell_type": "markdown",
      "metadata": {
        "id": "view-in-github",
        "colab_type": "text"
      },
      "source": [
        "<a href=\"https://colab.research.google.com/github/SoniReddyMaram/CODSOFT/blob/main/Credit_card_Fraud_Detection.ipynb\" target=\"_parent\"><img src=\"https://colab.research.google.com/assets/colab-badge.svg\" alt=\"Open In Colab\"/></a>"
      ]
    },
    {
      "cell_type": "code",
      "execution_count": null,
      "metadata": {
        "colab": {
          "base_uri": "https://localhost:8080/"
        },
        "id": "pGZe8LEPBj3h",
        "outputId": "5a626f4f-2714-44ce-d83b-91128b32c4ff"
      },
      "outputs": [
        {
          "output_type": "stream",
          "name": "stdout",
          "text": [
            "<class 'pandas.core.frame.DataFrame'>\n",
            "RangeIndex: 555719 entries, 0 to 555718\n",
            "Data columns (total 23 columns):\n",
            " #   Column                 Non-Null Count   Dtype  \n",
            "---  ------                 --------------   -----  \n",
            " 0   Unnamed: 0             555719 non-null  int64  \n",
            " 1   trans_date_trans_time  555719 non-null  object \n",
            " 2   cc_num                 555719 non-null  int64  \n",
            " 3   merchant               555719 non-null  object \n",
            " 4   category               555719 non-null  object \n",
            " 5   amt                    555719 non-null  float64\n",
            " 6   first                  555719 non-null  object \n",
            " 7   last                   555719 non-null  object \n",
            " 8   gender                 555719 non-null  object \n",
            " 9   street                 555719 non-null  object \n",
            " 10  city                   555719 non-null  object \n",
            " 11  state                  555719 non-null  object \n",
            " 12  zip                    555719 non-null  int64  \n",
            " 13  lat                    555719 non-null  float64\n",
            " 14  long                   555719 non-null  float64\n",
            " 15  city_pop               555719 non-null  int64  \n",
            " 16  job                    555719 non-null  object \n",
            " 17  dob                    555719 non-null  object \n",
            " 18  trans_num              555719 non-null  object \n",
            " 19  unix_time              555719 non-null  int64  \n",
            " 20  merch_lat              555719 non-null  float64\n",
            " 21  merch_long             555719 non-null  float64\n",
            " 22  is_fraud               555719 non-null  int64  \n",
            "dtypes: float64(5), int64(6), object(12)\n",
            "memory usage: 97.5+ MB\n"
          ]
        }
      ],
      "source": [
        "import pandas as pd\n",
        "from sklearn.model_selection import train_test_split\n",
        "from sklearn.preprocessing import StandardScaler\n",
        "from sklearn.preprocessing import LabelEncoder\n",
        "\n",
        "# Load the dataset\n",
        "df = pd.read_csv('fraudTest.csv')\n",
        "\n",
        "df.info()\n"
      ]
    },
    {
      "cell_type": "code",
      "source": [
        "df=df.drop(columns='Unnamed: 0')\n",
        "df.info()"
      ],
      "metadata": {
        "colab": {
          "base_uri": "https://localhost:8080/"
        },
        "id": "x_5M9OAzEauZ",
        "outputId": "9900c927-f367-40f7-8b54-8ef4849618c1"
      },
      "execution_count": null,
      "outputs": [
        {
          "output_type": "stream",
          "name": "stdout",
          "text": [
            "<class 'pandas.core.frame.DataFrame'>\n",
            "RangeIndex: 555719 entries, 0 to 555718\n",
            "Data columns (total 22 columns):\n",
            " #   Column                 Non-Null Count   Dtype  \n",
            "---  ------                 --------------   -----  \n",
            " 0   trans_date_trans_time  555719 non-null  object \n",
            " 1   cc_num                 555719 non-null  int64  \n",
            " 2   merchant               555719 non-null  object \n",
            " 3   category               555719 non-null  object \n",
            " 4   amt                    555719 non-null  float64\n",
            " 5   first                  555719 non-null  object \n",
            " 6   last                   555719 non-null  object \n",
            " 7   gender                 555719 non-null  object \n",
            " 8   street                 555719 non-null  object \n",
            " 9   city                   555719 non-null  object \n",
            " 10  state                  555719 non-null  object \n",
            " 11  zip                    555719 non-null  int64  \n",
            " 12  lat                    555719 non-null  float64\n",
            " 13  long                   555719 non-null  float64\n",
            " 14  city_pop               555719 non-null  int64  \n",
            " 15  job                    555719 non-null  object \n",
            " 16  dob                    555719 non-null  object \n",
            " 17  trans_num              555719 non-null  object \n",
            " 18  unix_time              555719 non-null  int64  \n",
            " 19  merch_lat              555719 non-null  float64\n",
            " 20  merch_long             555719 non-null  float64\n",
            " 21  is_fraud               555719 non-null  int64  \n",
            "dtypes: float64(5), int64(5), object(12)\n",
            "memory usage: 93.3+ MB\n"
          ]
        }
      ]
    },
    {
      "cell_type": "code",
      "source": [
        "encoder=LabelEncoder()\n",
        "df['merchant']=encoder.fit_transform(df['merchant'])\n",
        "df['category']=encoder.fit_transform(df['category'])\n",
        "df['street']=encoder.fit_transform(df['street'])\n",
        "df['job']=encoder.fit_transform(df['job'])\n",
        "df['trans_num']=encoder.fit_transform(df['trans_num'])\n",
        "df['first']=encoder.fit_transform(df['first'])\n",
        "df['city']=encoder.fit_transform(df['city'])\n",
        "df['state']=encoder.fit_transform(df['state'])\n",
        "df['last']=encoder.fit_transform(df['last'])\n",
        "df['gender']=encoder.fit_transform(df['gender'])\n",
        "df['trans_date_trans_time']=encoder.fit_transform(df['trans_date_trans_time'])\n",
        "df['dob']=encoder.fit_transform(df['dob'])"
      ],
      "metadata": {
        "id": "EK-AD-SIDHkv"
      },
      "execution_count": null,
      "outputs": []
    },
    {
      "cell_type": "code",
      "source": [
        "# Feature scaling\n",
        "scaler = StandardScaler()\n",
        "df['scaled_amount'] = scaler.fit_transform(df['amt'].values.reshape(-1, 1))\n",
        "df['scaled_time'] = scaler.fit_transform(df['unix_time'].values.reshape(-1, 1))\n",
        "df.drop(['unix_time', 'amt'], axis=1, inplace=True)\n",
        "\n",
        "# Splitting into X (features) and y (target)\n",
        "X = df.drop('is_fraud', axis=1)\n",
        "y = df['is_fraud']\n",
        "\n",
        "# Train-test split\n",
        "X_train, X_test, y_train, y_test = train_test_split(X, y, test_size=0.2, random_state=42)"
      ],
      "metadata": {
        "id": "aYwutqO7DLLO"
      },
      "execution_count": null,
      "outputs": []
    },
    {
      "cell_type": "code",
      "source": [
        "from imblearn.over_sampling import SMOTE\n",
        "\n",
        "# SMOTE for balancing the dataset\n",
        "sm = SMOTE(random_state=42)\n",
        "X_train_sm, y_train_sm = sm.fit_resample(X_train, y_train)\n"
      ],
      "metadata": {
        "id": "4v3xTmGJC4eW"
      },
      "execution_count": null,
      "outputs": []
    },
    {
      "cell_type": "code",
      "source": [
        "from sklearn.linear_model import LogisticRegression\n",
        "from sklearn.metrics import classification_report, roc_auc_score\n",
        "\n",
        "# Logistic Regression\n",
        "log_reg = LogisticRegression()\n",
        "log_reg.fit(X_train_sm, y_train_sm)\n",
        "\n",
        "# Predictions and evaluation\n",
        "y_pred_log = log_reg.predict(X_test)\n",
        "print(\"Logistic Regression Classification Report:\\n\", classification_report(y_test, y_pred_log, zero_division=0))\n",
        "print(\"ROC-AUC:\", roc_auc_score(y_test, y_pred_log))\n"
      ],
      "metadata": {
        "colab": {
          "base_uri": "https://localhost:8080/"
        },
        "id": "5eofNE5CC6Oh",
        "outputId": "339a4792-86fa-4b0d-f6c7-645114b1d484"
      },
      "execution_count": null,
      "outputs": [
        {
          "output_type": "stream",
          "name": "stdout",
          "text": [
            "Logistic Regression Classification Report:\n",
            "               precision    recall  f1-score   support\n",
            "\n",
            "           0       1.00      1.00      1.00    110718\n",
            "           1       0.00      0.00      0.00       426\n",
            "\n",
            "    accuracy                           1.00    111144\n",
            "   macro avg       0.50      0.50      0.50    111144\n",
            "weighted avg       0.99      1.00      0.99    111144\n",
            "\n",
            "ROC-AUC: 0.5\n"
          ]
        }
      ]
    },
    {
      "cell_type": "code",
      "source": [
        "from sklearn.tree import DecisionTreeClassifier\n",
        "\n",
        "# Decision Tree\n",
        "tree = DecisionTreeClassifier(random_state=42)\n",
        "tree.fit(X_train_sm, y_train_sm)\n",
        "\n",
        "# Predictions and evaluation\n",
        "y_pred_tree = tree.predict(X_test)\n",
        "print(\"Decision Tree Classification Report:\\n\", classification_report(y_test, y_pred_tree, zero_division=0))\n",
        "print(\"ROC-AUC:\", roc_auc_score(y_test, y_pred_tree))\n"
      ],
      "metadata": {
        "colab": {
          "base_uri": "https://localhost:8080/"
        },
        "id": "hTjkzltyC9RS",
        "outputId": "d963ad45-0969-4ce5-d3d7-bafa4912025f"
      },
      "execution_count": null,
      "outputs": [
        {
          "output_type": "stream",
          "name": "stdout",
          "text": [
            "Decision Tree Classification Report:\n",
            "               precision    recall  f1-score   support\n",
            "\n",
            "           0       1.00      0.99      0.99    110718\n",
            "           1       0.23      0.73      0.35       426\n",
            "\n",
            "    accuracy                           0.99    111144\n",
            "   macro avg       0.62      0.86      0.67    111144\n",
            "weighted avg       1.00      0.99      0.99    111144\n",
            "\n",
            "ROC-AUC: 0.860417177099338\n"
          ]
        }
      ]
    },
    {
      "cell_type": "code",
      "source": [
        "from sklearn.ensemble import RandomForestClassifier\n",
        "\n",
        "# Random Forest\n",
        "forest = RandomForestClassifier(random_state=42)\n",
        "forest.fit(X_train_sm, y_train_sm)\n",
        "\n",
        "# Predictions and evaluation\n",
        "y_pred_forest = forest.predict(X_test)\n",
        "print(\"Random Forest Classification Report:\\n\", classification_report(y_test, y_pred_forest))\n",
        "print(\"ROC-AUC:\", roc_auc_score(y_test, y_pred_forest))\n"
      ],
      "metadata": {
        "colab": {
          "base_uri": "https://localhost:8080/"
        },
        "id": "ACiEWLCBC_1T",
        "outputId": "00d0e78a-732e-4ade-d0d7-6fdfd86fb694"
      },
      "execution_count": null,
      "outputs": [
        {
          "output_type": "stream",
          "name": "stdout",
          "text": [
            "Random Forest Classification Report:\n",
            "               precision    recall  f1-score   support\n",
            "\n",
            "           0       1.00      1.00      1.00    110718\n",
            "           1       0.69      0.71      0.70       426\n",
            "\n",
            "    accuracy                           1.00    111144\n",
            "   macro avg       0.84      0.85      0.85    111144\n",
            "weighted avg       1.00      1.00      1.00    111144\n",
            "\n",
            "ROC-AUC: 0.8526676960551218\n"
          ]
        }
      ]
    }
  ]
}